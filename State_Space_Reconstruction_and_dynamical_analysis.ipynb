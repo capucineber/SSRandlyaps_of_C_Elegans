{
  "nbformat": 4,
  "nbformat_minor": 0,
  "metadata": {
    "colab": {
      "provenance": [],
      "authorship_tag": "ABX9TyOZ9njSp5N3mf8i6VFm6VRC",
      "include_colab_link": true
    },
    "kernelspec": {
      "name": "python3",
      "display_name": "Python 3"
    },
    "language_info": {
      "name": "python"
    }
  },
  "cells": [
    {
      "cell_type": "markdown",
      "metadata": {
        "id": "view-in-github",
        "colab_type": "text"
      },
      "source": [
        "<a href=\"https://colab.research.google.com/github/capucineber/SSRandlyaps_of_C_Elegans/blob/main/State_Space_Reconstruction_and_dynamical_analysis.ipynb\" target=\"_parent\"><img src=\"https://colab.research.google.com/assets/colab-badge.svg\" alt=\"Open In Colab\"/></a>"
      ]
    },
    {
      "cell_type": "markdown",
      "source": [
        "# Imports and installations"
      ],
      "metadata": {
        "id": "SXGsIH0bViYG"
      }
    },
    {
      "cell_type": "code",
      "source": [
        "#Clone the repository with all files, images and videos. This will result in a folder called cloned-repo\n",
        "!git clone -l -s https://github.com/capucineber/SSRandlyaps_of_C_Elegans.git cloned-repo\n",
        "%cd cloned-repo\n",
        "!ls  #Listo of all elements in the repo"
      ],
      "metadata": {
        "colab": {
          "base_uri": "https://localhost:8080/"
        },
        "id": "X8yXC4CnVxML",
        "outputId": "08722b2b-8bfb-4f02-80d3-6917bc7d9f1e"
      },
      "execution_count": 5,
      "outputs": [
        {
          "output_type": "stream",
          "name": "stdout",
          "text": [
            "Cloning into 'cloned-repo'...\n",
            "warning: --local is ignored\n",
            "remote: Enumerating objects: 9, done.\u001b[K\n",
            "remote: Counting objects: 100% (9/9), done.\u001b[K\n",
            "remote: Compressing objects: 100% (8/8), done.\u001b[K\n",
            "remote: Total 9 (delta 0), reused 0 (delta 0), pack-reused 0\u001b[K\n",
            "Receiving objects: 100% (9/9), 9.56 KiB | 1.59 MiB/s, done.\n",
            "/content/cloned-repo/cloned-repo\n",
            "clustering_methods.py  delay_embedding_1D.py  operator_calculations.py\tREADME.md  stats.py\n"
          ]
        }
      ]
    },
    {
      "cell_type": "markdown",
      "source": [
        "You need to set the directory for all the files that will be used in the tutorial. If they have been cloned from GitHub into '/content/cloned-repo/', copy-paste the example. Otherwise, write down the appropriate directory."
      ],
      "metadata": {
        "id": "9jUIxWtgWdZp"
      }
    },
    {
      "cell_type": "code",
      "source": [
        "#Example:\n",
        "directory = '/content/cloned-repo/'"
      ],
      "metadata": {
        "id": "sczC1-m7Wf_2"
      },
      "execution_count": 6,
      "outputs": []
    },
    {
      "cell_type": "markdown",
      "source": [
        "Now import everything you will need in this notebook."
      ],
      "metadata": {
        "id": "L7f-fIrIWlV9"
      }
    },
    {
      "cell_type": "code",
      "source": [
        "import h5py\n",
        "import numpy as np\n",
        "import numpy.ma as ma\n",
        "import matplotlib.pyplot as plt\n",
        "import sys\n",
        "from mpl_toolkits.mplot3d import Axes3D\n",
        "import matplotlib.colors as colors\n",
        "import os\n",
        "import scipy\n",
        "from scipy.integrate import odeint\n",
        "from scipy.ndimage import gaussian_filter\n",
        "#import umap.plot\n",
        "from mpl_toolkits import mplot3d\n",
        "import math\n",
        "from statsmodels.graphics.tsaplots import plot_acf\n",
        "import sys\n",
        "path_to_module = directory\n",
        "sys.path.append(path_to_module)\n",
        "import clustering_methods as cl\n",
        "import delay_embedding_1D as embed\n",
        "import matplotlib.animation as anim"
      ],
      "metadata": {
        "id": "KVKCqYK_Wq9v"
      },
      "execution_count": 7,
      "outputs": []
    },
    {
      "cell_type": "markdown",
      "source": [
        "DATA DEALS : We import and manipulate all the data we will need in this notebook."
      ],
      "metadata": {
        "id": "n0rrOp6NZjKi"
      }
    },
    {
      "cell_type": "markdown",
      "source": [
        "1) Lorenz system data set"
      ],
      "metadata": {
        "id": "5QFla-12ZvNz"
      }
    },
    {
      "cell_type": "code",
      "source": [],
      "metadata": {
        "id": "-Q0jhG1rZ0sD"
      },
      "execution_count": null,
      "outputs": []
    },
    {
      "cell_type": "markdown",
      "source": [
        "2) Neuronal activity of C Elegans from Kato et al. paper dataset"
      ],
      "metadata": {
        "id": "CoC8RHnhZ01i"
      }
    },
    {
      "cell_type": "code",
      "source": [],
      "metadata": {
        "id": "EH6XEtPhaCKJ"
      },
      "execution_count": null,
      "outputs": []
    },
    {
      "cell_type": "markdown",
      "source": [
        "3) Neuronal activity of C Elegans from Atanas et al. paper dataset\n",
        "\n"
      ],
      "metadata": {
        "id": "Kq3cHpE1aCUL"
      }
    },
    {
      "cell_type": "code",
      "source": [],
      "metadata": {
        "id": "a1m5MSmeaJhg"
      },
      "execution_count": null,
      "outputs": []
    }
  ]
}